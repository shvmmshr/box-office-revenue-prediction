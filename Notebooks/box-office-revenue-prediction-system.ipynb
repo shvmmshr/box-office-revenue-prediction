{
 "cells": [
  {
   "cell_type": "code",
   "execution_count": null,
   "metadata": {
    "_cell_guid": "b1076dfc-b9ad-4769-8c92-a6c4dae69d19",
    "_uuid": "8f2839f25d086af736a60e9eeb907d3b93b6e0e5",
    "execution": {
     "iopub.execute_input": "2025-01-23T20:34:00.719658Z",
     "iopub.status.busy": "2025-01-23T20:34:00.719330Z",
     "iopub.status.idle": "2025-01-23T20:34:08.166766Z",
     "shell.execute_reply": "2025-01-23T20:34:08.165561Z",
     "shell.execute_reply.started": "2025-01-23T20:34:00.719617Z"
    },
    "trusted": true
   },
   "outputs": [],
   "source": [
    "import pandas as pd\n",
    "from sklearn.feature_extraction.text import CountVectorizer, TfidfVectorizer\n",
    "from sklearn.preprocessing import OneHotEncoder, LabelEncoder\n",
    "from sklearn.compose import ColumnTransformer\n",
    "from sklearn.pipeline import Pipeline\n",
    "from sklearn.model_selection import train_test_split\n",
    "from sklearn.metrics import classification_report\n",
    "from sklearn.ensemble import RandomForestClassifier, GradientBoostingClassifier, AdaBoostClassifier\n",
    "from xgboost import XGBClassifier\n",
    "from lightgbm import LGBMClassifier\n",
    "from sklearn.linear_model import LogisticRegression\n",
    "from sklearn.svm import SVC\n",
    "from sklearn.neighbors import KNeighborsClassifier\n",
    "from sklearn.tree import DecisionTreeClassifier\n",
    "from imblearn.combine import SMOTETomek\n",
    "from sklearn.metrics import confusion_matrix\n",
    "import matplotlib.pyplot as plt\n",
    "import seaborn as sns\n",
    "\n",
    "\n"
   ]
  },
  {
   "cell_type": "code",
   "execution_count": null,
   "metadata": {
    "execution": {
     "iopub.execute_input": "2025-01-23T20:34:24.859129Z",
     "iopub.status.busy": "2025-01-23T20:34:24.858708Z",
     "iopub.status.idle": "2025-01-23T20:34:24.978603Z",
     "shell.execute_reply": "2025-01-23T20:34:24.977456Z",
     "shell.execute_reply.started": "2025-01-23T20:34:24.859094Z"
    },
    "trusted": true
   },
   "outputs": [],
   "source": [
    "data_path = '/kaggle/input/the-movie-repo-database/data4.csv' \n",
    "\n",
    "# Load your dataset\n",
    "data = pd.read_csv(data_path)"
   ]
  },
  {
   "cell_type": "code",
   "execution_count": null,
   "metadata": {
    "execution": {
     "iopub.execute_input": "2025-01-15T20:58:21.679704Z",
     "iopub.status.busy": "2025-01-15T20:58:21.679279Z",
     "iopub.status.idle": "2025-01-15T20:58:21.701544Z",
     "shell.execute_reply": "2025-01-15T20:58:21.700327Z",
     "shell.execute_reply.started": "2025-01-15T20:58:21.679674Z"
    },
    "trusted": true
   },
   "outputs": [],
   "source": [
    "data = data.dropna()\n"
   ]
  },
  {
   "cell_type": "code",
   "execution_count": null,
   "metadata": {
    "execution": {
     "iopub.execute_input": "2025-01-15T20:58:21.874892Z",
     "iopub.status.busy": "2025-01-15T20:58:21.874520Z",
     "iopub.status.idle": "2025-01-15T20:58:21.882657Z",
     "shell.execute_reply": "2025-01-15T20:58:21.881329Z",
     "shell.execute_reply.started": "2025-01-15T20:58:21.874864Z"
    },
    "trusted": true
   },
   "outputs": [],
   "source": [
    "verdict_counts = data['Verdict'].value_counts()\n",
    "\n",
    "# Print the counts\n",
    "print(verdict_counts)"
   ]
  },
  {
   "cell_type": "code",
   "execution_count": null,
   "metadata": {
    "execution": {
     "iopub.execute_input": "2025-01-15T20:58:22.059152Z",
     "iopub.status.busy": "2025-01-15T20:58:22.058786Z",
     "iopub.status.idle": "2025-01-15T20:58:22.065345Z",
     "shell.execute_reply": "2025-01-15T20:58:22.063852Z",
     "shell.execute_reply.started": "2025-01-15T20:58:22.059124Z"
    },
    "trusted": true
   },
   "outputs": [],
   "source": [
    "data['Year'] = data['Year'].astype(int)\n",
    "data['Duration'] = data['Duration'].astype(int)"
   ]
  },
  {
   "cell_type": "code",
   "execution_count": null,
   "metadata": {
    "execution": {
     "iopub.execute_input": "2025-01-15T20:58:22.249435Z",
     "iopub.status.busy": "2025-01-15T20:58:22.248991Z",
     "iopub.status.idle": "2025-01-15T20:58:22.257111Z",
     "shell.execute_reply": "2025-01-15T20:58:22.255836Z",
     "shell.execute_reply.started": "2025-01-15T20:58:22.249404Z"
    },
    "trusted": true
   },
   "outputs": [],
   "source": [
    "features = ['Title','Year', 'Rate', 'Duration', 'Genre1', 'Genre2', 'Genre3', 'Director', 'Writer' , 'Actor1', 'Actor2', 'Language', 'Description' ]\n",
    "X = data[features]\n",
    "y = data['Verdict']"
   ]
  },
  {
   "cell_type": "code",
   "execution_count": null,
   "metadata": {
    "execution": {
     "iopub.execute_input": "2025-01-15T20:58:22.469138Z",
     "iopub.status.busy": "2025-01-15T20:58:22.468809Z",
     "iopub.status.idle": "2025-01-15T20:58:22.479899Z",
     "shell.execute_reply": "2025-01-15T20:58:22.478822Z",
     "shell.execute_reply.started": "2025-01-15T20:58:22.469115Z"
    },
    "trusted": true
   },
   "outputs": [],
   "source": [
    "label_mapping = {\n",
    "    'Disaster': 0,\n",
    "    'Flop': 1,\n",
    "    'Successful': 2,\n",
    "    'Average': 3,\n",
    "    'Hit': 4,\n",
    "    'Outstanding': 5,\n",
    "    'Superhit': 6,\n",
    "    'Blockbuster': 7\n",
    "}\n",
    "\n",
    "\n",
    "# Replace the categorical labels with their numeric equivalents\n",
    "y_encoded = y.replace(label_mapping)\n",
    "\n",
    "# Check the result\n",
    "print(y_encoded)"
   ]
  },
  {
   "cell_type": "code",
   "execution_count": null,
   "metadata": {
    "execution": {
     "iopub.execute_input": "2025-01-15T20:58:22.794665Z",
     "iopub.status.busy": "2025-01-15T20:58:22.794233Z",
     "iopub.status.idle": "2025-01-15T20:58:22.800292Z",
     "shell.execute_reply": "2025-01-15T20:58:22.799211Z",
     "shell.execute_reply.started": "2025-01-15T20:58:22.794634Z"
    },
    "trusted": true
   },
   "outputs": [],
   "source": [
    "preprocessor = ColumnTransformer(\n",
    "    transformers=[\n",
    "        ('num', 'passthrough', ['Year', 'Duration']),\n",
    "        ('cat', OneHotEncoder(handle_unknown='ignore', sparse_output=False), ['Rate', 'Genre1', 'Genre2', 'Genre3']),\n",
    "        ('title', TfidfVectorizer(), 'Title'),\n",
    "        ('description', TfidfVectorizer(), 'Description'),\n",
    "        ('director', TfidfVectorizer(), 'Director'),\n",
    "        ('writer', TfidfVectorizer(), 'Writer'),\n",
    "        ('actors', TfidfVectorizer(), 'Actor1'),\n",
    "        ('actors2', TfidfVectorizer(), 'Actor2'),\n",
    "        ('language', TfidfVectorizer(), 'Language')\n",
    "    ]\n",
    ")\n"
   ]
  },
  {
   "cell_type": "code",
   "execution_count": null,
   "metadata": {
    "execution": {
     "iopub.execute_input": "2025-01-15T20:58:23.039415Z",
     "iopub.status.busy": "2025-01-15T20:58:23.039040Z",
     "iopub.status.idle": "2025-01-15T21:12:06.876656Z",
     "shell.execute_reply": "2025-01-15T21:12:06.875547Z",
     "shell.execute_reply.started": "2025-01-15T20:58:23.039386Z"
    },
    "trusted": true
   },
   "outputs": [],
   "source": [
    "def test_multiple_models(X, y, preprocessor):\n",
    "    models = [\n",
    "        ('Logistic Regression', LogisticRegression(random_state=42, max_iter=1000, class_weight='balanced')),\n",
    "        ('Support Vector Machine', SVC(random_state=42, class_weight='balanced')),\n",
    "        ('Decision Tree', DecisionTreeClassifier(random_state=42, class_weight='balanced')),\n",
    "        ('Random Forest', RandomForestClassifier(random_state=42, class_weight='balanced')),\n",
    "        ('XGBoost', XGBClassifier(random_state=42, use_label_encoder=False, eval_metric='mlogloss')),\n",
    "        ('LightGBM', LGBMClassifier(random_state=42, class_weight='balanced'))\n",
    "    ]\n",
    "\n",
    "    # Train-test split with encoded labels\n",
    "    X_train, X_test, y_train, y_test = train_test_split(X, y, test_size=0.2, random_state=42)\n",
    "\n",
    "    # Preprocess the data\n",
    "    X_train_preprocessed = preprocessor.fit_transform(X_train)\n",
    "    X_test_preprocessed = preprocessor.transform(X_test)\n",
    "\n",
    "    # Combine SMOTE and Tomek links (for oversampling and undersampling)\n",
    "    smote_tomek = SMOTETomek(random_state=42)\n",
    "\n",
    "    # Apply resampling to the preprocessed training data\n",
    "    X_train_resampled, y_train_resampled = smote_tomek.fit_resample(X_train_preprocessed, y_train)\n",
    "\n",
    "    for model_name, model in models:\n",
    "        print(f\"Training {model_name}...\")\n",
    "\n",
    "        # Train the model\n",
    "        model.fit(X_train_resampled, y_train_resampled)\n",
    "\n",
    "        # Predict and evaluate\n",
    "        y_pred = model.predict(X_test_preprocessed)\n",
    "        print(f\"Classification report for {model_name}:\\n\")\n",
    "        print(classification_report(y_test, y_pred, zero_division=0))\n",
    "        \n",
    "        # Confusion matrix\n",
    "        cm = confusion_matrix(y_test, y_pred)\n",
    "        print(f\"Confusion Matrix for {model_name}:\\n{cm}\\n\")\n",
    "        \n",
    "        # Plot confusion matrix\n",
    "        plt.figure(figsize=(10, 7))\n",
    "        sns.heatmap(cm, annot=True, fmt='d', cmap='Blues')\n",
    "        plt.title(f'Confusion Matrix for {model_name}')\n",
    "        plt.xlabel('Predicted')\n",
    "        plt.ylabel('Actual')\n",
    "        plt.show()\n",
    "        \n",
    "        print(\"-\" * 50)\n",
    "\n",
    "# Run the function with encoded target labels\n",
    "test_multiple_models(X, y_encoded, preprocessor)"
   ]
  },
  {
   "cell_type": "code",
   "execution_count": null,
   "metadata": {
    "execution": {
     "iopub.execute_input": "2025-01-15T21:18:37.597609Z",
     "iopub.status.busy": "2025-01-15T21:18:37.597139Z",
     "iopub.status.idle": "2025-01-15T21:29:22.204227Z",
     "shell.execute_reply": "2025-01-15T21:29:22.203073Z",
     "shell.execute_reply.started": "2025-01-15T21:18:37.597577Z"
    },
    "trusted": true
   },
   "outputs": [],
   "source": [
    "def test_multiple_models(X, y, preprocessor):\n",
    "    models = [\n",
    "        ('Logistic Regression', LogisticRegression(random_state=42, max_iter=1000, class_weight='balanced')),\n",
    "        ('Support Vector Machine', SVC(random_state=42, class_weight='balanced')),\n",
    "        ('Decision Tree', DecisionTreeClassifier(random_state=42, class_weight='balanced')),\n",
    "        ('Random Forest', RandomForestClassifier(random_state=42, class_weight='balanced')),\n",
    "        ('XGBoost', XGBClassifier(random_state=42, use_label_encoder=False, eval_metric='mlogloss')),\n",
    "        ('LightGBM', LGBMClassifier(random_state=42, class_weight='balanced'))\n",
    "    ]\n",
    "\n",
    "    # Train-test split with encoded labels\n",
    "    X_train, X_test, y_train, y_test = train_test_split(X, y, test_size=0.3, random_state=42)\n",
    "\n",
    "    # Preprocess the data\n",
    "    X_train_preprocessed = preprocessor.fit_transform(X_train)\n",
    "    X_test_preprocessed = preprocessor.transform(X_test)\n",
    "\n",
    "    # Combine SMOTE and Tomek links (for oversampling and undersampling)\n",
    "    smote_tomek = SMOTETomek(random_state=42)\n",
    "\n",
    "    # Apply resampling to the preprocessed training data\n",
    "    X_train_resampled, y_train_resampled = smote_tomek.fit_resample(X_train_preprocessed, y_train)\n",
    "\n",
    "    for model_name, model in models:\n",
    "        print(f\"Training {model_name}...\")\n",
    "\n",
    "        # Train the model\n",
    "        model.fit(X_train_resampled, y_train_resampled)\n",
    "\n",
    "        # Predict and evaluate\n",
    "        y_pred = model.predict(X_test_preprocessed)\n",
    "        print(f\"Classification report for {model_name}:\\n\")\n",
    "        print(classification_report(y_test, y_pred, zero_division=0))\n",
    "        \n",
    "        # Confusion matrix\n",
    "        cm = confusion_matrix(y_test, y_pred)\n",
    "        print(f\"Confusion Matrix for {model_name}:\\n{cm}\\n\")\n",
    "        \n",
    "        # Plot confusion matrix\n",
    "        plt.figure(figsize=(10, 7))\n",
    "        sns.heatmap(cm, annot=True, fmt='d', cmap='Blues')\n",
    "        plt.title(f'Confusion Matrix for {model_name}')\n",
    "        plt.xlabel('Predicted')\n",
    "        plt.ylabel('Actual')\n",
    "        plt.show()\n",
    "        \n",
    "        print(\"-\" * 50)\n",
    "\n",
    "# Run the function with encoded target labels\n",
    "test_multiple_models(X, y_encoded, preprocessor)"
   ]
  },
  {
   "cell_type": "code",
   "execution_count": null,
   "metadata": {
    "execution": {
     "iopub.execute_input": "2025-01-15T21:29:22.206535Z",
     "iopub.status.busy": "2025-01-15T21:29:22.206108Z",
     "iopub.status.idle": "2025-01-15T21:41:28.886770Z",
     "shell.execute_reply": "2025-01-15T21:41:28.885515Z",
     "shell.execute_reply.started": "2025-01-15T21:29:22.206503Z"
    },
    "trusted": true
   },
   "outputs": [],
   "source": [
    "def test_multiple_models(X, y, preprocessor):\n",
    "    models = [\n",
    "        ('Logistic Regression', LogisticRegression(random_state=42, max_iter=1000, class_weight='balanced')),\n",
    "        ('Support Vector Machine', SVC(random_state=42, class_weight='balanced')),\n",
    "        ('Decision Tree', DecisionTreeClassifier(random_state=42, class_weight='balanced')),\n",
    "        ('Random Forest', RandomForestClassifier(random_state=42, class_weight='balanced')),\n",
    "        ('XGBoost', XGBClassifier(random_state=42, use_label_encoder=False, eval_metric='mlogloss')),\n",
    "        ('LightGBM', LGBMClassifier(random_state=42, class_weight='balanced'))\n",
    "    ]\n",
    "\n",
    "    # Train-test split with encoded labels\n",
    "    X_train, X_test, y_train, y_test = train_test_split(X, y, test_size=0.25, random_state=42)\n",
    "\n",
    "    # Preprocess the data\n",
    "    X_train_preprocessed = preprocessor.fit_transform(X_train)\n",
    "    X_test_preprocessed = preprocessor.transform(X_test)\n",
    "\n",
    "    # Combine SMOTE and Tomek links (for oversampling and undersampling)\n",
    "    smote_tomek = SMOTETomek(random_state=42)\n",
    "\n",
    "    # Apply resampling to the preprocessed training data\n",
    "    X_train_resampled, y_train_resampled = smote_tomek.fit_resample(X_train_preprocessed, y_train)\n",
    "\n",
    "    for model_name, model in models:\n",
    "        print(f\"Training {model_name}...\")\n",
    "\n",
    "        # Train the model\n",
    "        model.fit(X_train_resampled, y_train_resampled)\n",
    "\n",
    "        # Predict and evaluate\n",
    "        y_pred = model.predict(X_test_preprocessed)\n",
    "        print(f\"Classification report for {model_name}:\\n\")\n",
    "        print(classification_report(y_test, y_pred, zero_division=0))\n",
    "        \n",
    "        # Confusion matrix\n",
    "        cm = confusion_matrix(y_test, y_pred)\n",
    "        print(f\"Confusion Matrix for {model_name}:\\n{cm}\\n\")\n",
    "        \n",
    "        # Plot confusion matrix\n",
    "        plt.figure(figsize=(10, 7))\n",
    "        sns.heatmap(cm, annot=True, fmt='d', cmap='Blues')\n",
    "        plt.title(f'Confusion Matrix for {model_name}')\n",
    "        plt.xlabel('Predicted')\n",
    "        plt.ylabel('Actual')\n",
    "        plt.show()\n",
    "        \n",
    "        print(\"-\" * 50)\n",
    "\n",
    "# Run the function with encoded target labels\n",
    "test_multiple_models(X, y_encoded, preprocessor)"
   ]
  },
  {
   "cell_type": "code",
   "execution_count": null,
   "metadata": {
    "trusted": true
   },
   "outputs": [],
   "source": []
  },
  {
   "cell_type": "code",
   "execution_count": null,
   "metadata": {
    "trusted": true
   },
   "outputs": [],
   "source": []
  },
  {
   "cell_type": "code",
   "execution_count": null,
   "metadata": {
    "trusted": true
   },
   "outputs": [],
   "source": []
  }
 ],
 "metadata": {
  "kaggle": {
   "accelerator": "none",
   "dataSources": [
    {
     "datasetId": 6535267,
     "sourceId": 10562464,
     "sourceType": "datasetVersion"
    }
   ],
   "dockerImageVersionId": 30839,
   "isGpuEnabled": false,
   "isInternetEnabled": false,
   "language": "python",
   "sourceType": "notebook"
  },
  "kernelspec": {
   "display_name": "Python 3",
   "language": "python",
   "name": "python3"
  },
  "language_info": {
   "codemirror_mode": {
    "name": "ipython",
    "version": 3
   },
   "file_extension": ".py",
   "mimetype": "text/x-python",
   "name": "python",
   "nbconvert_exporter": "python",
   "pygments_lexer": "ipython3",
   "version": "3.10.12"
  }
 },
 "nbformat": 4,
 "nbformat_minor": 4
}
